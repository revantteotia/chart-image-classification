{
 "cells": [
  {
   "cell_type": "code",
   "execution_count": 1,
   "metadata": {
    "tags": []
   },
   "outputs": [],
   "source": [
    "import numpy as np\n",
    "import matplotlib.pyplot as plt\n",
    "from tensorflow.keras.preprocessing.image import load_img, img_to_array, array_to_img\n",
    "from sklearn.model_selection import train_test_split\n",
    "import os\n",
    "import pandas as pd\n",
    "\n",
    "np.set_printoptions(threshold=sys.maxsize) # to print the whole np array of each image"
   ]
  },
  {
   "cell_type": "code",
   "execution_count": 2,
   "metadata": {},
   "outputs": [],
   "source": [
    "train_val_data_path = 'chart_images_dataset/charts/train_val'\n"
   ]
  },
  {
   "cell_type": "code",
   "execution_count": 3,
   "metadata": {},
   "outputs": [
    {
     "output_type": "execute_result",
     "data": {
      "text/plain": "<matplotlib.image.AxesImage at 0x7f84b195a400>"
     },
     "metadata": {},
     "execution_count": 3
    },
    {
     "output_type": "display_data",
     "data": {
      "text/plain": "<Figure size 432x288 with 1 Axes>",
      "image/svg+xml": "<?xml version=\"1.0\" encoding=\"utf-8\" standalone=\"no\"?>\n<!DOCTYPE svg PUBLIC \"-//W3C//DTD SVG 1.1//EN\"\n  \"http://www.w3.org/Graphics/SVG/1.1/DTD/svg11.dtd\">\n<!-- Created with matplotlib (https://matplotlib.org/) -->\n<svg height=\"251.467969pt\" version=\"1.1\" viewBox=\"0 0 257.9275 251.467969\" width=\"257.9275pt\" xmlns=\"http://www.w3.org/2000/svg\" xmlns:xlink=\"http://www.w3.org/1999/xlink\">\n <defs>\n  <style type=\"text/css\">\n*{stroke-linecap:butt;stroke-linejoin:round;}\n  </style>\n </defs>\n <g id=\"figure_1\">\n  <g id=\"patch_1\">\n   <path d=\"M 0 251.467969 \nL 257.9275 251.467969 \nL 257.9275 0 \nL 0 0 \nz\n\" style=\"fill:none;\"/>\n  </g>\n  <g id=\"axes_1\">\n   <g id=\"patch_2\">\n    <path d=\"M 33.2875 227.589844 \nL 250.7275 227.589844 \nL 250.7275 10.149844 \nL 33.2875 10.149844 \nz\n\" style=\"fill:#ffffff;\"/>\n   </g>\n   <g clip-path=\"url(#p4acab6a638)\">\n    <image height=\"218\" id=\"imageccf6875ad1\" transform=\"scale(1 -1)translate(0 -218)\" width=\"218\" x=\"33.2875\" xlink:href=\"data:image/png;base64,\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\" y=\"-9.589844\"/>\n   </g>\n   <g id=\"matplotlib.axis_1\">\n    <g id=\"xtick_1\">\n     <g id=\"line2d_1\">\n      <defs>\n       <path d=\"M 0 0 \nL 0 3.5 \n\" id=\"m029c52837a\" style=\"stroke:#000000;stroke-width:0.8;\"/>\n      </defs>\n      <g>\n       <use style=\"stroke:#000000;stroke-width:0.8;\" x=\"34.136875\" xlink:href=\"#m029c52837a\" y=\"227.589844\"/>\n      </g>\n     </g>\n     <g id=\"text_1\">\n      <!-- 0 -->\n      <defs>\n       <path d=\"M 31.78125 66.40625 \nQ 24.171875 66.40625 20.328125 58.90625 \nQ 16.5 51.421875 16.5 36.375 \nQ 16.5 21.390625 20.328125 13.890625 \nQ 24.171875 6.390625 31.78125 6.390625 \nQ 39.453125 6.390625 43.28125 13.890625 \nQ 47.125 21.390625 47.125 36.375 \nQ 47.125 51.421875 43.28125 58.90625 \nQ 39.453125 66.40625 31.78125 66.40625 \nz\nM 31.78125 74.21875 \nQ 44.046875 74.21875 50.515625 64.515625 \nQ 56.984375 54.828125 56.984375 36.375 \nQ 56.984375 17.96875 50.515625 8.265625 \nQ 44.046875 -1.421875 31.78125 -1.421875 \nQ 19.53125 -1.421875 13.0625 8.265625 \nQ 6.59375 17.96875 6.59375 36.375 \nQ 6.59375 54.828125 13.0625 64.515625 \nQ 19.53125 74.21875 31.78125 74.21875 \nz\n\" id=\"DejaVuSans-48\"/>\n      </defs>\n      <g transform=\"translate(30.955625 242.188281)scale(0.1 -0.1)\">\n       <use xlink:href=\"#DejaVuSans-48\"/>\n      </g>\n     </g>\n    </g>\n    <g id=\"xtick_2\">\n     <g id=\"line2d_2\">\n      <g>\n       <use style=\"stroke:#000000;stroke-width:0.8;\" x=\"68.111875\" xlink:href=\"#m029c52837a\" y=\"227.589844\"/>\n      </g>\n     </g>\n     <g id=\"text_2\">\n      <!-- 20 -->\n      <defs>\n       <path d=\"M 19.1875 8.296875 \nL 53.609375 8.296875 \nL 53.609375 0 \nL 7.328125 0 \nL 7.328125 8.296875 \nQ 12.9375 14.109375 22.625 23.890625 \nQ 32.328125 33.6875 34.8125 36.53125 \nQ 39.546875 41.84375 41.421875 45.53125 \nQ 43.3125 49.21875 43.3125 52.78125 \nQ 43.3125 58.59375 39.234375 62.25 \nQ 35.15625 65.921875 28.609375 65.921875 \nQ 23.96875 65.921875 18.8125 64.3125 \nQ 13.671875 62.703125 7.8125 59.421875 \nL 7.8125 69.390625 \nQ 13.765625 71.78125 18.9375 73 \nQ 24.125 74.21875 28.421875 74.21875 \nQ 39.75 74.21875 46.484375 68.546875 \nQ 53.21875 62.890625 53.21875 53.421875 \nQ 53.21875 48.921875 51.53125 44.890625 \nQ 49.859375 40.875 45.40625 35.40625 \nQ 44.1875 33.984375 37.640625 27.21875 \nQ 31.109375 20.453125 19.1875 8.296875 \nz\n\" id=\"DejaVuSans-50\"/>\n      </defs>\n      <g transform=\"translate(61.749375 242.188281)scale(0.1 -0.1)\">\n       <use xlink:href=\"#DejaVuSans-50\"/>\n       <use x=\"63.623047\" xlink:href=\"#DejaVuSans-48\"/>\n      </g>\n     </g>\n    </g>\n    <g id=\"xtick_3\">\n     <g id=\"line2d_3\">\n      <g>\n       <use style=\"stroke:#000000;stroke-width:0.8;\" x=\"102.086875\" xlink:href=\"#m029c52837a\" y=\"227.589844\"/>\n      </g>\n     </g>\n     <g id=\"text_3\">\n      <!-- 40 -->\n      <defs>\n       <path d=\"M 37.796875 64.3125 \nL 12.890625 25.390625 \nL 37.796875 25.390625 \nz\nM 35.203125 72.90625 \nL 47.609375 72.90625 \nL 47.609375 25.390625 \nL 58.015625 25.390625 \nL 58.015625 17.1875 \nL 47.609375 17.1875 \nL 47.609375 0 \nL 37.796875 0 \nL 37.796875 17.1875 \nL 4.890625 17.1875 \nL 4.890625 26.703125 \nz\n\" id=\"DejaVuSans-52\"/>\n      </defs>\n      <g transform=\"translate(95.724375 242.188281)scale(0.1 -0.1)\">\n       <use xlink:href=\"#DejaVuSans-52\"/>\n       <use x=\"63.623047\" xlink:href=\"#DejaVuSans-48\"/>\n      </g>\n     </g>\n    </g>\n    <g id=\"xtick_4\">\n     <g id=\"line2d_4\">\n      <g>\n       <use style=\"stroke:#000000;stroke-width:0.8;\" x=\"136.061875\" xlink:href=\"#m029c52837a\" y=\"227.589844\"/>\n      </g>\n     </g>\n     <g id=\"text_4\">\n      <!-- 60 -->\n      <defs>\n       <path d=\"M 33.015625 40.375 \nQ 26.375 40.375 22.484375 35.828125 \nQ 18.609375 31.296875 18.609375 23.390625 \nQ 18.609375 15.53125 22.484375 10.953125 \nQ 26.375 6.390625 33.015625 6.390625 \nQ 39.65625 6.390625 43.53125 10.953125 \nQ 47.40625 15.53125 47.40625 23.390625 \nQ 47.40625 31.296875 43.53125 35.828125 \nQ 39.65625 40.375 33.015625 40.375 \nz\nM 52.59375 71.296875 \nL 52.59375 62.3125 \nQ 48.875 64.0625 45.09375 64.984375 \nQ 41.3125 65.921875 37.59375 65.921875 \nQ 27.828125 65.921875 22.671875 59.328125 \nQ 17.53125 52.734375 16.796875 39.40625 \nQ 19.671875 43.65625 24.015625 45.921875 \nQ 28.375 48.1875 33.59375 48.1875 \nQ 44.578125 48.1875 50.953125 41.515625 \nQ 57.328125 34.859375 57.328125 23.390625 \nQ 57.328125 12.15625 50.6875 5.359375 \nQ 44.046875 -1.421875 33.015625 -1.421875 \nQ 20.359375 -1.421875 13.671875 8.265625 \nQ 6.984375 17.96875 6.984375 36.375 \nQ 6.984375 53.65625 15.1875 63.9375 \nQ 23.390625 74.21875 37.203125 74.21875 \nQ 40.921875 74.21875 44.703125 73.484375 \nQ 48.484375 72.75 52.59375 71.296875 \nz\n\" id=\"DejaVuSans-54\"/>\n      </defs>\n      <g transform=\"translate(129.699375 242.188281)scale(0.1 -0.1)\">\n       <use xlink:href=\"#DejaVuSans-54\"/>\n       <use x=\"63.623047\" xlink:href=\"#DejaVuSans-48\"/>\n      </g>\n     </g>\n    </g>\n    <g id=\"xtick_5\">\n     <g id=\"line2d_5\">\n      <g>\n       <use style=\"stroke:#000000;stroke-width:0.8;\" x=\"170.036875\" xlink:href=\"#m029c52837a\" y=\"227.589844\"/>\n      </g>\n     </g>\n     <g id=\"text_5\">\n      <!-- 80 -->\n      <defs>\n       <path d=\"M 31.78125 34.625 \nQ 24.75 34.625 20.71875 30.859375 \nQ 16.703125 27.09375 16.703125 20.515625 \nQ 16.703125 13.921875 20.71875 10.15625 \nQ 24.75 6.390625 31.78125 6.390625 \nQ 38.8125 6.390625 42.859375 10.171875 \nQ 46.921875 13.96875 46.921875 20.515625 \nQ 46.921875 27.09375 42.890625 30.859375 \nQ 38.875 34.625 31.78125 34.625 \nz\nM 21.921875 38.8125 \nQ 15.578125 40.375 12.03125 44.71875 \nQ 8.5 49.078125 8.5 55.328125 \nQ 8.5 64.0625 14.71875 69.140625 \nQ 20.953125 74.21875 31.78125 74.21875 \nQ 42.671875 74.21875 48.875 69.140625 \nQ 55.078125 64.0625 55.078125 55.328125 \nQ 55.078125 49.078125 51.53125 44.71875 \nQ 48 40.375 41.703125 38.8125 \nQ 48.828125 37.15625 52.796875 32.3125 \nQ 56.78125 27.484375 56.78125 20.515625 \nQ 56.78125 9.90625 50.3125 4.234375 \nQ 43.84375 -1.421875 31.78125 -1.421875 \nQ 19.734375 -1.421875 13.25 4.234375 \nQ 6.78125 9.90625 6.78125 20.515625 \nQ 6.78125 27.484375 10.78125 32.3125 \nQ 14.796875 37.15625 21.921875 38.8125 \nz\nM 18.3125 54.390625 \nQ 18.3125 48.734375 21.84375 45.5625 \nQ 25.390625 42.390625 31.78125 42.390625 \nQ 38.140625 42.390625 41.71875 45.5625 \nQ 45.3125 48.734375 45.3125 54.390625 \nQ 45.3125 60.0625 41.71875 63.234375 \nQ 38.140625 66.40625 31.78125 66.40625 \nQ 25.390625 66.40625 21.84375 63.234375 \nQ 18.3125 60.0625 18.3125 54.390625 \nz\n\" id=\"DejaVuSans-56\"/>\n      </defs>\n      <g transform=\"translate(163.674375 242.188281)scale(0.1 -0.1)\">\n       <use xlink:href=\"#DejaVuSans-56\"/>\n       <use x=\"63.623047\" xlink:href=\"#DejaVuSans-48\"/>\n      </g>\n     </g>\n    </g>\n    <g id=\"xtick_6\">\n     <g id=\"line2d_6\">\n      <g>\n       <use style=\"stroke:#000000;stroke-width:0.8;\" x=\"204.011875\" xlink:href=\"#m029c52837a\" y=\"227.589844\"/>\n      </g>\n     </g>\n     <g id=\"text_6\">\n      <!-- 100 -->\n      <defs>\n       <path d=\"M 12.40625 8.296875 \nL 28.515625 8.296875 \nL 28.515625 63.921875 \nL 10.984375 60.40625 \nL 10.984375 69.390625 \nL 28.421875 72.90625 \nL 38.28125 72.90625 \nL 38.28125 8.296875 \nL 54.390625 8.296875 \nL 54.390625 0 \nL 12.40625 0 \nz\n\" id=\"DejaVuSans-49\"/>\n      </defs>\n      <g transform=\"translate(194.468125 242.188281)scale(0.1 -0.1)\">\n       <use xlink:href=\"#DejaVuSans-49\"/>\n       <use x=\"63.623047\" xlink:href=\"#DejaVuSans-48\"/>\n       <use x=\"127.246094\" xlink:href=\"#DejaVuSans-48\"/>\n      </g>\n     </g>\n    </g>\n    <g id=\"xtick_7\">\n     <g id=\"line2d_7\">\n      <g>\n       <use style=\"stroke:#000000;stroke-width:0.8;\" x=\"237.986875\" xlink:href=\"#m029c52837a\" y=\"227.589844\"/>\n      </g>\n     </g>\n     <g id=\"text_7\">\n      <!-- 120 -->\n      <g transform=\"translate(228.443125 242.188281)scale(0.1 -0.1)\">\n       <use xlink:href=\"#DejaVuSans-49\"/>\n       <use x=\"63.623047\" xlink:href=\"#DejaVuSans-50\"/>\n       <use x=\"127.246094\" xlink:href=\"#DejaVuSans-48\"/>\n      </g>\n     </g>\n    </g>\n   </g>\n   <g id=\"matplotlib.axis_2\">\n    <g id=\"ytick_1\">\n     <g id=\"line2d_8\">\n      <defs>\n       <path d=\"M 0 0 \nL -3.5 0 \n\" id=\"m44890ffe67\" style=\"stroke:#000000;stroke-width:0.8;\"/>\n      </defs>\n      <g>\n       <use style=\"stroke:#000000;stroke-width:0.8;\" x=\"33.2875\" xlink:href=\"#m44890ffe67\" y=\"10.999219\"/>\n      </g>\n     </g>\n     <g id=\"text_8\">\n      <!-- 0 -->\n      <g transform=\"translate(19.925 14.798438)scale(0.1 -0.1)\">\n       <use xlink:href=\"#DejaVuSans-48\"/>\n      </g>\n     </g>\n    </g>\n    <g id=\"ytick_2\">\n     <g id=\"line2d_9\">\n      <g>\n       <use style=\"stroke:#000000;stroke-width:0.8;\" x=\"33.2875\" xlink:href=\"#m44890ffe67\" y=\"44.974219\"/>\n      </g>\n     </g>\n     <g id=\"text_9\">\n      <!-- 20 -->\n      <g transform=\"translate(13.5625 48.773438)scale(0.1 -0.1)\">\n       <use xlink:href=\"#DejaVuSans-50\"/>\n       <use x=\"63.623047\" xlink:href=\"#DejaVuSans-48\"/>\n      </g>\n     </g>\n    </g>\n    <g id=\"ytick_3\">\n     <g id=\"line2d_10\">\n      <g>\n       <use style=\"stroke:#000000;stroke-width:0.8;\" x=\"33.2875\" xlink:href=\"#m44890ffe67\" y=\"78.949219\"/>\n      </g>\n     </g>\n     <g id=\"text_10\">\n      <!-- 40 -->\n      <g transform=\"translate(13.5625 82.748437)scale(0.1 -0.1)\">\n       <use xlink:href=\"#DejaVuSans-52\"/>\n       <use x=\"63.623047\" xlink:href=\"#DejaVuSans-48\"/>\n      </g>\n     </g>\n    </g>\n    <g id=\"ytick_4\">\n     <g id=\"line2d_11\">\n      <g>\n       <use style=\"stroke:#000000;stroke-width:0.8;\" x=\"33.2875\" xlink:href=\"#m44890ffe67\" y=\"112.924219\"/>\n      </g>\n     </g>\n     <g id=\"text_11\">\n      <!-- 60 -->\n      <g transform=\"translate(13.5625 116.723438)scale(0.1 -0.1)\">\n       <use xlink:href=\"#DejaVuSans-54\"/>\n       <use x=\"63.623047\" xlink:href=\"#DejaVuSans-48\"/>\n      </g>\n     </g>\n    </g>\n    <g id=\"ytick_5\">\n     <g id=\"line2d_12\">\n      <g>\n       <use style=\"stroke:#000000;stroke-width:0.8;\" x=\"33.2875\" xlink:href=\"#m44890ffe67\" y=\"146.899219\"/>\n      </g>\n     </g>\n     <g id=\"text_12\">\n      <!-- 80 -->\n      <g transform=\"translate(13.5625 150.698438)scale(0.1 -0.1)\">\n       <use xlink:href=\"#DejaVuSans-56\"/>\n       <use x=\"63.623047\" xlink:href=\"#DejaVuSans-48\"/>\n      </g>\n     </g>\n    </g>\n    <g id=\"ytick_6\">\n     <g id=\"line2d_13\">\n      <g>\n       <use style=\"stroke:#000000;stroke-width:0.8;\" x=\"33.2875\" xlink:href=\"#m44890ffe67\" y=\"180.874219\"/>\n      </g>\n     </g>\n     <g id=\"text_13\">\n      <!-- 100 -->\n      <g transform=\"translate(7.2 184.673438)scale(0.1 -0.1)\">\n       <use xlink:href=\"#DejaVuSans-49\"/>\n       <use x=\"63.623047\" xlink:href=\"#DejaVuSans-48\"/>\n       <use x=\"127.246094\" xlink:href=\"#DejaVuSans-48\"/>\n      </g>\n     </g>\n    </g>\n    <g id=\"ytick_7\">\n     <g id=\"line2d_14\">\n      <g>\n       <use style=\"stroke:#000000;stroke-width:0.8;\" x=\"33.2875\" xlink:href=\"#m44890ffe67\" y=\"214.849219\"/>\n      </g>\n     </g>\n     <g id=\"text_14\">\n      <!-- 120 -->\n      <g transform=\"translate(7.2 218.648438)scale(0.1 -0.1)\">\n       <use xlink:href=\"#DejaVuSans-49\"/>\n       <use x=\"63.623047\" xlink:href=\"#DejaVuSans-50\"/>\n       <use x=\"127.246094\" xlink:href=\"#DejaVuSans-48\"/>\n      </g>\n     </g>\n    </g>\n   </g>\n   <g id=\"patch_3\">\n    <path d=\"M 33.2875 227.589844 \nL 33.2875 10.149844 \n\" style=\"fill:none;stroke:#000000;stroke-linecap:square;stroke-linejoin:miter;stroke-width:0.8;\"/>\n   </g>\n   <g id=\"patch_4\">\n    <path d=\"M 250.7275 227.589844 \nL 250.7275 10.149844 \n\" style=\"fill:none;stroke:#000000;stroke-linecap:square;stroke-linejoin:miter;stroke-width:0.8;\"/>\n   </g>\n   <g id=\"patch_5\">\n    <path d=\"M 33.2875 227.589844 \nL 250.7275 227.589844 \n\" style=\"fill:none;stroke:#000000;stroke-linecap:square;stroke-linejoin:miter;stroke-width:0.8;\"/>\n   </g>\n   <g id=\"patch_6\">\n    <path d=\"M 33.2875 10.149844 \nL 250.7275 10.149844 \n\" style=\"fill:none;stroke:#000000;stroke-linecap:square;stroke-linejoin:miter;stroke-width:0.8;\"/>\n   </g>\n  </g>\n </g>\n <defs>\n  <clipPath id=\"p4acab6a638\">\n   <rect height=\"217.44\" width=\"217.44\" x=\"33.2875\" y=\"10.149844\"/>\n  </clipPath>\n </defs>\n</svg>\n",
      "image/png": "[encoded data removed]"
     },
     "metadata": {
      "needs_background": "light"
     }
    }
   ],
   "source": [
    "# checking one image from training dataset\n",
    "path_of_a_chart = 'chart_images_dataset/charts/train_val/7.png'\n",
    "img = load_img(path_of_a_chart)\n",
    "plt.imshow(img)"
   ]
  },
  {
   "cell_type": "code",
   "execution_count": 4,
   "metadata": {
    "tags": []
   },
   "outputs": [
    {
     "output_type": "stream",
     "name": "stdout",
     "text": "image size = (128, 128)\nimage mode = RGB\nimage array shape = (128, 128, 3)\n"
    }
   ],
   "source": [
    "# checking the size and pixel values of image\n",
    "print(\"image size = {}\".format(img.size))\n",
    "print(\"image mode = {}\".format(img.mode))\n",
    "\n",
    "img_array = img_to_array(img) # converting to np array\n",
    "print(\"image array shape = {}\".format(img_array.shape))\n"
   ]
  },
  {
   "cell_type": "code",
   "execution_count": 5,
   "metadata": {
    "tags": []
   },
   "outputs": [
    {
     "output_type": "stream",
     "name": "stdout",
     "text": "number of images found : 1000\n"
    }
   ],
   "source": [
    "# checking if all images are of shame shape\n",
    "number_of_images = 0\n",
    "for filename in os.listdir(train_val_data_path):\n",
    "    if filename.endswith(\".png\"):\n",
    "        number_of_images += 1\n",
    "        image_path = os.path.join(train_val_data_path, filename)\n",
    "        img = load_img(image_path)\n",
    "        if (img.size != (128,128)):\n",
    "            print (\"ImageSize different for {}\".format(image_path))\n",
    "        # print(\"image size = {}\".format(img.size))\n",
    "        # print(\"image mode = {}\".format(img.mode))\n",
    "\n",
    "print(\"number of images found : {}\".format(number_of_images))"
   ]
  },
  {
   "cell_type": "markdown",
   "metadata": {
    "tags": []
   },
   "source": [
    "Observation : all images are (128,128) RGB"
   ]
  },
  {
   "cell_type": "code",
   "execution_count": 6,
   "metadata": {
    "tags": []
   },
   "outputs": [
    {
     "output_type": "stream",
     "name": "stdout",
     "text": "image_index              type\n0            0  vbar_categorical\n1            1  vbar_categorical\n2            2  vbar_categorical\n3            3  vbar_categorical\n4            4  vbar_categorical\n"
    }
   ],
   "source": [
    "# reading csv\n",
    "csv_path = 'chart_images_dataset/charts/train_val.csv'\n",
    "train_val_df = pd.read_csv(csv_path)\n",
    "\n",
    "print (train_val_df.head())"
   ]
  },
  {
   "cell_type": "code",
   "execution_count": 19,
   "metadata": {},
   "outputs": [],
   "source": [
    "# Using Skleran's train_test_split with 'stratify' to split training data into train and validation while keeping the proportion of classes in both of them same\n",
    "\n",
    "train_df, val_df = train_test_split(train_val_df, train_size=0.8, shuffle=True, stratify=train_val_df['type'])"
   ]
  },
  {
   "cell_type": "code",
   "execution_count": 20,
   "metadata": {
    "tags": []
   },
   "outputs": [
    {
     "output_type": "stream",
     "name": "stdout",
     "text": "image_index              type\n768          768               pie\n635          635               pie\n90            90  vbar_categorical\n287          287  hbar_categorical\n147          147  vbar_categorical\n"
    }
   ],
   "source": [
    "# checking dataframe\n",
    "print(train_df.head())"
   ]
  },
  {
   "cell_type": "code",
   "execution_count": 21,
   "metadata": {
    "tags": []
   },
   "outputs": [
    {
     "output_type": "stream",
     "name": "stdout",
     "text": "vbar_categorical has 160 Train examples and 40 Validation examples\nhbar_categorical has 160 Train examples and 40 Validation examples\nline has 160 Train examples and 40 Validation examples\npie has 160 Train examples and 40 Validation examples\ndot_line has 160 Train examples and 40 Validation examples\n"
    }
   ],
   "source": [
    "# checking if the split maintains the class balance\n",
    "categories = train_val_df['type'].unique()\n",
    "\n",
    "for category in categories:\n",
    "    print(\"{} has {} Train examples and {} Validation examples\".format( category, (train_df['type'] ==  category).sum(), (val_df['type'] ==  category).sum()))\n"
   ]
  },
  {
   "cell_type": "code",
   "execution_count": 22,
   "metadata": {},
   "outputs": [],
   "source": [
    "# adding a 'image_filename' column\n",
    "train_df['image_filename'] = train_df['image_index'].apply(lambda index: str(index) + '.png')\n",
    "val_df['image_filename'] = val_df['image_index'].apply(lambda index: str(index) + '.png') \n"
   ]
  },
  {
   "cell_type": "code",
   "execution_count": 23,
   "metadata": {},
   "outputs": [
    {
     "output_type": "execute_result",
     "data": {
      "text/plain": "     image_index              type image_filename\n768          768               pie        768.png\n635          635               pie        635.png\n90            90  vbar_categorical         90.png\n287          287  hbar_categorical        287.png\n147          147  vbar_categorical        147.png",
      "text/html": "<div>\n<style scoped>\n    .dataframe tbody tr th:only-of-type {\n        vertical-align: middle;\n    }\n\n    .dataframe tbody tr th {\n        vertical-align: top;\n    }\n\n    .dataframe thead th {\n        text-align: right;\n    }\n</style>\n<table border=\"1\" class=\"dataframe\">\n  <thead>\n    <tr style=\"text-align: right;\">\n      <th></th>\n      <th>image_index</th>\n      <th>type</th>\n      <th>image_filename</th>\n    </tr>\n  </thead>\n  <tbody>\n    <tr>\n      <th>768</th>\n      <td>768</td>\n      <td>pie</td>\n      <td>768.png</td>\n    </tr>\n    <tr>\n      <th>635</th>\n      <td>635</td>\n      <td>pie</td>\n      <td>635.png</td>\n    </tr>\n    <tr>\n      <th>90</th>\n      <td>90</td>\n      <td>vbar_categorical</td>\n      <td>90.png</td>\n    </tr>\n    <tr>\n      <th>287</th>\n      <td>287</td>\n      <td>hbar_categorical</td>\n      <td>287.png</td>\n    </tr>\n    <tr>\n      <th>147</th>\n      <td>147</td>\n      <td>vbar_categorical</td>\n      <td>147.png</td>\n    </tr>\n  </tbody>\n</table>\n</div>"
     },
     "metadata": {},
     "execution_count": 23
    }
   ],
   "source": [
    "train_df.head()"
   ]
  },
  {
   "cell_type": "code",
   "execution_count": 24,
   "metadata": {},
   "outputs": [],
   "source": [
    "# saving train and validation dataframe to csv for future use\n",
    "train_csv_path = 'train.csv'\n",
    "val_csv_path = 'val.csv'\n",
    "\n",
    "train_df.to_csv(train_csv_path, index= False)\n",
    "val_df.to_csv(val_csv_path, index= False)\n"
   ]
  },
  {
   "cell_type": "code",
   "execution_count": 25,
   "metadata": {
    "tags": []
   },
   "outputs": [
    {
     "output_type": "stream",
     "name": "stdout",
     "text": "image_index              type image_filename\n0            768               pie        768.png\n1            635               pie        635.png\n2             90  vbar_categorical         90.png\n3            287  hbar_categorical        287.png\n4            147  vbar_categorical        147.png\n..           ...               ...            ...\n795          580              line        580.png\n796          775               pie        775.png\n797          944          dot_line        944.png\n798          631               pie        631.png\n799          698               pie        698.png\n\n[800 rows x 3 columns]\n     image_index              type image_filename\n0            593              line        593.png\n1            905          dot_line        905.png\n2            281  hbar_categorical        281.png\n3            820          dot_line        820.png\n4            509              line        509.png\n..           ...               ...            ...\n195          752               pie        752.png\n196          113  vbar_categorical        113.png\n197          827          dot_line        827.png\n198          111  vbar_categorical        111.png\n199           57  vbar_categorical         57.png\n\n[200 rows x 3 columns]\n"
    }
   ],
   "source": [
    "# checking train_csv and val_csv\n",
    "\n",
    "testing_train_df = pd.read_csv(train_csv_path)\n",
    "print(testing_train_df)\n",
    "\n",
    "testing_val_df = pd.read_csv(val_csv_path)\n",
    "print(testing_val_df)"
   ]
  },
  {
   "cell_type": "markdown",
   "metadata": {},
   "source": [
    "## Observations\n",
    "\n",
    "* all images are (128,128) RGB\n",
    "* there are 5 different types of charts\n",
    "    * Each has 200 examples\n",
    "* After train, validation split :\n",
    "    * train has 160 examples of each type\n",
    "    * validation has 40 examples of each type\n"
   ]
  }
 ],
 "metadata": {
  "language_info": {
   "codemirror_mode": {
    "name": "ipython",
    "version": 3
   },
   "file_extension": ".py",
   "mimetype": "text/x-python",
   "name": "python",
   "nbconvert_exporter": "python",
   "pygments_lexer": "ipython3",
   "version": "3.6.9-final"
  },
  "orig_nbformat": 2,
  "kernelspec": {
   "name": "python36964bitb700739b275943fe8cf709be88cb7e63",
   "display_name": "Python 3.6.9 64-bit"
  }
 },
 "nbformat": 4,
 "nbformat_minor": 2
}